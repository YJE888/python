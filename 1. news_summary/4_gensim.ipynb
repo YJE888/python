{
 "cells": [
  {
   "cell_type": "markdown",
   "id": "4ec81f88-7b18-413f-be75-87e8ae25dc51",
   "metadata": {},
   "source": [
    "# **문서 요약하기 - gensim**\n",
    "---\n",
    "### 📌 **개요**\n",
    "> 1. 바이너리 파일을 문자열로 변경 - base64 <br>\n",
    "> 2. 문자열에서 키워드 추출 - textwrap, re <br>\n",
    "> 3. 단어 개수 구하기 - collections.Counter <br>\n",
    "> 4. 문서 요약하기 - gensim <br>\n",
    "> 5. 텍스트 파일 저장 - open, close <br>\n",
    "> 6. 실습"
   ]
  },
  {
   "cell_type": "markdown",
   "id": "d09be122-21fc-477e-bfea-b41f2a8d28dc",
   "metadata": {},
   "source": [
    "## **gensim**\n",
    "> - `summarization` 내자 모듈로 **긴 문장을 요약**하는 것이 가능 (gensim 4.x 버전부터 요약 기능이 지원되지 않음) => **gensim 3.7.3 버전 사용해서 테스트**"
   ]
  },
  {
   "cell_type": "markdown",
   "id": "34cee638-e238-4004-9305-20443cb094da",
   "metadata": {
    "tags": []
   },
   "source": [
    "## **Word2Vec**\n",
    "> - `pip install gensim==3.7.3` 로 특정 버전 설치\n",
    "> - [30+ 개 국어 단어 학습 프로젝트](https://github.com/Kyubyong/wordvectors)로 미리 학습되어 있는 모델을 사용\n",
    "> - `unzip 파일명.zip -d 원하는/디렉토리/경로`로 압축해제 후 `ls -l ko/` 로 확인 시 두 개의 파일이 존재함\n",
    "```bash\n",
    "$ ls -l ko/\n",
    "total 1661616\n",
    "-rw-rw-r-- 1 1000 1000 1648815483 Feb 27  2017 ko.bin\n",
    "-rw-rw-r-- 1 1000 1000   52677684 Feb 27  2017 ko.vec\n",
    "```"
   ]
  },
  {
   "cell_type": "code",
   "execution_count": 1,
   "id": "df1b6ab7-7f2e-4810-bc50-4a1e091a6603",
   "metadata": {},
   "outputs": [],
   "source": [
    "%config Completer.use_jedi = False"
   ]
  },
  {
   "cell_type": "code",
   "execution_count": 2,
   "id": "e15f5bd9-1a15-4c99-ab48-6cd10650ec92",
   "metadata": {},
   "outputs": [],
   "source": [
    "import gensim"
   ]
  },
  {
   "cell_type": "code",
   "execution_count": 3,
   "id": "6deb68fc-8ffb-47f2-aec8-8be233cabe42",
   "metadata": {},
   "outputs": [],
   "source": [
    "# 사전 훈련된 Word2Vec 모델을 로드\n",
    "model = gensim.models.Word2Vec.load('/home/ko/ko.bin')"
   ]
  },
  {
   "cell_type": "code",
   "execution_count": 4,
   "id": "c21468f3-d965-4458-8220-30cb88aadcaf",
   "metadata": {},
   "outputs": [
    {
     "data": {
      "text/plain": [
       "<gensim.models.word2vec.Word2Vec at 0x7f11e2df1b00>"
      ]
     },
     "execution_count": 4,
     "metadata": {},
     "output_type": "execute_result"
    }
   ],
   "source": [
    "# 사용 중인 모델 확인\n",
    "model"
   ]
  },
  {
   "cell_type": "code",
   "execution_count": 5,
   "id": "c9f43282-b2ce-49fb-ae3a-ffb852dc2eb0",
   "metadata": {},
   "outputs": [
    {
     "data": {
      "text/plain": [
       "[('리포트', 0.6553797721862793),\n",
       " ('언론사', 0.6399534940719604),\n",
       " ('앵커', 0.637794017791748),\n",
       " ('데일리', 0.6316319704055786),\n",
       " ('일간지', 0.6260204315185547),\n",
       " ('투데이', 0.623687744140625),\n",
       " ('토크쇼', 0.5938538312911987),\n",
       " ('중앙일보', 0.5876286625862122),\n",
       " ('데스크', 0.5873063802719116),\n",
       " ('한겨레', 0.584434986114502)]"
      ]
     },
     "execution_count": 5,
     "metadata": {},
     "output_type": "execute_result"
    }
   ],
   "source": [
    "# 유사한 단어 검색(1에 가까울 수록 유사함)\n",
    "model.wv.most_similar(\"뉴스\")"
   ]
  },
  {
   "cell_type": "code",
   "execution_count": 6,
   "id": "027f7126-e740-4cde-93e7-74eebfc7aa68",
   "metadata": {},
   "outputs": [
    {
     "data": {
      "text/plain": [
       "-0.01987284"
      ]
     },
     "execution_count": 6,
     "metadata": {},
     "output_type": "execute_result"
    }
   ],
   "source": [
    "# 유사도 검색(자동차와 강아지가 얼마나 유사한 단어인지 확인)\n",
    "# 마이너스(-)의 값은 거의 유사하지 않다고 gensim모델로 확인\n",
    "model.wv.similarity('자동차', '강아지')"
   ]
  },
  {
   "cell_type": "code",
   "execution_count": 7,
   "id": "d0ce4464-4fab-4d4e-9bf1-bd27a521cb0d",
   "metadata": {},
   "outputs": [
    {
     "data": {
      "text/plain": [
       "0.7290453"
      ]
     },
     "execution_count": 7,
     "metadata": {},
     "output_type": "execute_result"
    }
   ],
   "source": [
    "# 유사도 검색\n",
    "model.wv.similarity('고양이', '강아지')"
   ]
  },
  {
   "cell_type": "markdown",
   "id": "6fdfc918-6a6c-42c5-8c9e-d10f26b35803",
   "metadata": {},
   "source": [
    "## **문서 요약하기**\n",
    "---\n",
    "```bash\n",
    "$ ls -l Book_test.csv \n",
    "-rw-r--r-- 1 root root 27735858 Feb 11 13:05 Book_test.csv\n",
    "```"
   ]
  },
  {
   "cell_type": "code",
   "execution_count": 8,
   "id": "57437e52-e258-477b-b0c6-b659ea4a5e22",
   "metadata": {},
   "outputs": [],
   "source": [
    "from gensim.summarization.summarizer import summarize\n",
    "import pandas as pd\n",
    "import numpy as np"
   ]
  },
  {
   "cell_type": "code",
   "execution_count": 9,
   "id": "9d63db58-f145-4053-897e-2fcd75f321b2",
   "metadata": {},
   "outputs": [],
   "source": [
    "# 위에서부터 100번째 줄까지의 데이터 불러오기\n",
    "df = pd.read_csv('/home/Book_test.csv')\n",
    "df = df.iloc[:100]\n",
    "df.reset_index(inplace=True)"
   ]
  },
  {
   "cell_type": "code",
   "execution_count": 10,
   "id": "1de86df0-412e-4f92-9559-f7c855cf3a5e",
   "metadata": {},
   "outputs": [
    {
     "data": {
      "text/html": [
       "<div>\n",
       "<style scoped>\n",
       "    .dataframe tbody tr th:only-of-type {\n",
       "        vertical-align: middle;\n",
       "    }\n",
       "\n",
       "    .dataframe tbody tr th {\n",
       "        vertical-align: top;\n",
       "    }\n",
       "\n",
       "    .dataframe thead th {\n",
       "        text-align: right;\n",
       "    }\n",
       "</style>\n",
       "<table border=\"1\" class=\"dataframe\">\n",
       "  <thead>\n",
       "    <tr style=\"text-align: right;\">\n",
       "      <th></th>\n",
       "      <th>index</th>\n",
       "      <th>Unnamed: 0</th>\n",
       "      <th>passage</th>\n",
       "      <th>summary</th>\n",
       "    </tr>\n",
       "  </thead>\n",
       "  <tbody>\n",
       "    <tr>\n",
       "      <th>0</th>\n",
       "      <td>0</td>\n",
       "      <td>0</td>\n",
       "      <td>이 장은 후진타오(호금도) 시대가 어떤 과정을 통해 등장했는가를 검토하는 것이다....</td>\n",
       "      <td>후진타오 시대는 제 3세대 지도자가 물러나며 제 4세대 지도자가 새로운 통치 집단...</td>\n",
       "    </tr>\n",
       "    <tr>\n",
       "      <th>1</th>\n",
       "      <td>1</td>\n",
       "      <td>1</td>\n",
       "      <td>한편 사영기업가의 입당허용이 단기간에 중국정치에 변화를 몰고 올 것 같지는 않다....</td>\n",
       "      <td>사영기업가 계층은 국가의 통제를 아직 벗어나지 못했다는 등의 이유로 단기간에 중국...</td>\n",
       "    </tr>\n",
       "    <tr>\n",
       "      <th>2</th>\n",
       "      <td>2</td>\n",
       "      <td>2</td>\n",
       "      <td>그런데 제 16차 당 대회에서는 민족주의를 강조하는 경향이 이전보다 더욱 두드러졌...</td>\n",
       "      <td>공산당이 국민정당에 대해 민족정당이 된 것, 정치보고에 민족정신 등에 대한 강조가...</td>\n",
       "    </tr>\n",
       "    <tr>\n",
       "      <th>3</th>\n",
       "      <td>3</td>\n",
       "      <td>3</td>\n",
       "      <td>2.3.2 제10기 전국인민대표대회 제 1차 회의(2003년)\\n 2003년 3월 ...</td>\n",
       "      <td>2003년의 10기 전국인대 1차 회의는 주요 국가지도자에 대한 인선이 있었고 공...</td>\n",
       "    </tr>\n",
       "    <tr>\n",
       "      <th>4</th>\n",
       "      <td>4</td>\n",
       "      <td>4</td>\n",
       "      <td>1) 인선에 대한 총괄평가\\n 제 10기 전국인대 제 1차 회의에서 선출(비준)된...</td>\n",
       "      <td>10기 전국인대 1차 회의는 완전하고 실질적인 권력이양이 이루어지지 않았다. 이에...</td>\n",
       "    </tr>\n",
       "  </tbody>\n",
       "</table>\n",
       "</div>"
      ],
      "text/plain": [
       "   index  Unnamed: 0                                            passage  \\\n",
       "0      0           0   이 장은 후진타오(호금도) 시대가 어떤 과정을 통해 등장했는가를 검토하는 것이다....   \n",
       "1      1           1   한편 사영기업가의 입당허용이 단기간에 중국정치에 변화를 몰고 올 것 같지는 않다....   \n",
       "2      2           2   그런데 제 16차 당 대회에서는 민족주의를 강조하는 경향이 이전보다 더욱 두드러졌...   \n",
       "3      3           3  2.3.2 제10기 전국인민대표대회 제 1차 회의(2003년)\\n 2003년 3월 ...   \n",
       "4      4           4   1) 인선에 대한 총괄평가\\n 제 10기 전국인대 제 1차 회의에서 선출(비준)된...   \n",
       "\n",
       "                                             summary  \n",
       "0   후진타오 시대는 제 3세대 지도자가 물러나며 제 4세대 지도자가 새로운 통치 집단...  \n",
       "1   사영기업가 계층은 국가의 통제를 아직 벗어나지 못했다는 등의 이유로 단기간에 중국...  \n",
       "2   공산당이 국민정당에 대해 민족정당이 된 것, 정치보고에 민족정신 등에 대한 강조가...  \n",
       "3   2003년의 10기 전국인대 1차 회의는 주요 국가지도자에 대한 인선이 있었고 공...  \n",
       "4   10기 전국인대 1차 회의는 완전하고 실질적인 권력이양이 이루어지지 않았다. 이에...  "
      ]
     },
     "execution_count": 10,
     "metadata": {},
     "output_type": "execute_result"
    }
   ],
   "source": [
    "# 상위 5개만 확인\n",
    "df.head()"
   ]
  },
  {
   "cell_type": "code",
   "execution_count": 11,
   "id": "751a2fa0-486a-4651-832d-404e6170d2b2",
   "metadata": {},
   "outputs": [
    {
     "data": {
      "text/plain": [
       "' 이 장은 후진타오(호금도) 시대가 어떤 과정을 통해 등장했는가를 검토하는 것이다. 이를 위해 여기서는 2002년 11월 개최된 중국공산당 제 16차 전국대표대회(당 대회)와 2003년 3월 개최된 제 10기 전국인민대표대회(전국인대) 제 1차 회의를 분석할 것이다. 후진타오 시대는 이 두 대회를 시작으로 2004년 9월 공산당 제 16기 중앙위원회 4차 전체회의(4중전회)까지 약 2년의 긴 과정을 거쳐 형성되었다. 우선, 이 기간 동안 장쩌민(장택민), 리펑(이붕), 주룽지(주용기)로 대표되는 제 3세대 지도자가 물러나고, 후진타오, 원자바오(온가보), 쩡칭홍(증경홍)으로 대표되는 제 4세대 지도자가 새로운 통치 집단으로 등장했다. 또한, 이 기간 동안 후진타오 시대의 중국이 실시할 국가정책의 방침과 내용이 서서히 모습을 드러냈다. 따라서 후진타오 시대의 등장과정을 이해하기 위해서는 16차 당 대회와 10기 전국인대 1차 회의에 대한 분석이 필수적이다.\\n 그런데 제 3세대에서 제 4세대로의 권력이양은 결코 순탄하지 않았다. 장쩌민이 2002년 16차 당 대회에서 후진타오에게 총서기직을 물려준 다음에도 2004년 공산당 제 16기 4중전회까지 약 2년 동안 중앙군사위원회 주석직을 유지했다는 사실은 이를 상징적으로 보여준다. 따라서 이 기간은 장쩌민 시대와 후진타오 시대가 공존하는 일종의 과도기라고 할 수 있다. 또한 이 기간은 후진타오와 원자바오가 장쩌민 세력에 맞서 자신의 권력기반을 공고히 하는 한편 장쩌민 시대의 유산을 정리하면서 국민들에게 자신의 새로운 비전을 제시하는 탐색기였다고 말할 수 있다.'"
      ]
     },
     "execution_count": 11,
     "metadata": {},
     "output_type": "execute_result"
    }
   ],
   "source": [
    "# index 0번의 데이터를 자세히 확인\n",
    "df.loc[0, 'passage']"
   ]
  },
  {
   "cell_type": "code",
   "execution_count": 12,
   "id": "2421ccd4-806d-4e21-b20d-3bdc7e36378c",
   "metadata": {},
   "outputs": [
    {
     "data": {
      "text/plain": [
       "' 후진타오 시대는 제 3세대 지도자가 물러나며 제 4세대 지도자가 새로운 통치 집단이 되었고 국가정책 방침과 내용이 모습을 드러냈다. 장쩌민이 후진타오에게 총서기직을 물려준 후에도 약 2년 동안 중앙군사위원회 주석직을 유지한 것은 제 3세대에서 제 4세대로의 순탄치 않은 권력이양을 보여준다. 이 시기는 장쩌민 시대와 후진타오 시대가 공존하는 과도기이며 후진타오와 원자바오가 자신의 새로운 비전을 제시하는 탐색기였다.'"
      ]
     },
     "execution_count": 12,
     "metadata": {},
     "output_type": "execute_result"
    }
   ],
   "source": [
    "# index 0번의 내용을 진흥원의 AI가 요약한 내용 확인\n",
    "df.loc[0, 'summary']"
   ]
  },
  {
   "cell_type": "markdown",
   "id": "ab43155e-cb16-4fc8-bbe4-e77a62dbdeb6",
   "metadata": {},
   "source": [
    "### **gensim 라이브러리로 요약**\n",
    "---"
   ]
  },
  {
   "cell_type": "code",
   "execution_count": 13,
   "id": "57b226f6-4960-4dbb-9661-0de646bfc1e4",
   "metadata": {},
   "outputs": [
    {
     "data": {
      "text/plain": [
       "'이 장은 후진타오(호금도) 시대가 어떤 과정을 통해 등장했는가를 검토하는 것이다.\\n따라서 이 기간은 장쩌민 시대와 후진타오 시대가 공존하는 일종의 과도기라고 할 수 있다.'"
      ]
     },
     "execution_count": 13,
     "metadata": {},
     "output_type": "execute_result"
    }
   ],
   "source": [
    "# 첫번째 데이터 요약\n",
    "summarize(df.loc[0,'passage'])"
   ]
  },
  {
   "cell_type": "code",
   "execution_count": 14,
   "id": "a08b1ab5-b87c-4f98-8e70-5e4256c4c2e5",
   "metadata": {},
   "outputs": [
    {
     "data": {
      "text/plain": [
       "'이 장은 후진타오(호금도) 시대가 어떤 과정을 통해 등장했는가를 검토하는 것이다.\\n후진타오 시대는 이 두 대회를 시작으로 2004년 9월 공산당 제 16기 중앙위원회 4차 전체회의(4중전회)까지 약 2년의 긴 과정을 거쳐 형성되었다.\\n따라서 후진타오 시대의 등장과정을 이해하기 위해서는 16차 당 대회와 10기 전국인대 1차 회의에 대한 분석이 필수적이다.\\n따라서 이 기간은 장쩌민 시대와 후진타오 시대가 공존하는 일종의 과도기라고 할 수 있다.'"
      ]
     },
     "execution_count": 14,
     "metadata": {},
     "output_type": "execute_result"
    }
   ],
   "source": [
    "# 첫번째 데이터 기준으로 40% 정도로 요약 비율을 지정해서 요약 (ratio는 0~1 사이의 값을 넣어주며 됨)\n",
    "summarize(df.loc[0, 'passage'], ratio=0.4)"
   ]
  },
  {
   "cell_type": "code",
   "execution_count": 15,
   "id": "ed0c1db1-efde-423a-bc9d-0636f24881f0",
   "metadata": {},
   "outputs": [],
   "source": [
    "# 전체 데이터 적용\n",
    "# extract라는 새로운 열을 생성한 후 기사 원문을 대상으로 lambda 함수(summarize) 적용\n",
    "df['extract'] = df.passage.apply(lambda x : summarize(x, ratio=0.2))"
   ]
  },
  {
   "cell_type": "code",
   "execution_count": 16,
   "id": "8d20add6-608f-4df8-adfd-1aae92c63dc2",
   "metadata": {},
   "outputs": [
    {
     "data": {
      "text/html": [
       "<div>\n",
       "<style scoped>\n",
       "    .dataframe tbody tr th:only-of-type {\n",
       "        vertical-align: middle;\n",
       "    }\n",
       "\n",
       "    .dataframe tbody tr th {\n",
       "        vertical-align: top;\n",
       "    }\n",
       "\n",
       "    .dataframe thead th {\n",
       "        text-align: right;\n",
       "    }\n",
       "</style>\n",
       "<table border=\"1\" class=\"dataframe\">\n",
       "  <thead>\n",
       "    <tr style=\"text-align: right;\">\n",
       "      <th></th>\n",
       "      <th>index</th>\n",
       "      <th>Unnamed: 0</th>\n",
       "      <th>passage</th>\n",
       "      <th>summary</th>\n",
       "      <th>extract</th>\n",
       "    </tr>\n",
       "  </thead>\n",
       "  <tbody>\n",
       "    <tr>\n",
       "      <th>0</th>\n",
       "      <td>0</td>\n",
       "      <td>0</td>\n",
       "      <td>이 장은 후진타오(호금도) 시대가 어떤 과정을 통해 등장했는가를 검토하는 것이다....</td>\n",
       "      <td>후진타오 시대는 제 3세대 지도자가 물러나며 제 4세대 지도자가 새로운 통치 집단...</td>\n",
       "      <td>이 장은 후진타오(호금도) 시대가 어떤 과정을 통해 등장했는가를 검토하는 것이다.\\...</td>\n",
       "    </tr>\n",
       "    <tr>\n",
       "      <th>1</th>\n",
       "      <td>1</td>\n",
       "      <td>1</td>\n",
       "      <td>한편 사영기업가의 입당허용이 단기간에 중국정치에 변화를 몰고 올 것 같지는 않다....</td>\n",
       "      <td>사영기업가 계층은 국가의 통제를 아직 벗어나지 못했다는 등의 이유로 단기간에 중국...</td>\n",
       "      <td>다만 사영기업가 계층의 정치적 영향력은 지역에 따라 큰 차이를 보일 것이다.\\n예를...</td>\n",
       "    </tr>\n",
       "    <tr>\n",
       "      <th>2</th>\n",
       "      <td>2</td>\n",
       "      <td>2</td>\n",
       "      <td>그런데 제 16차 당 대회에서는 민족주의를 강조하는 경향이 이전보다 더욱 두드러졌...</td>\n",
       "      <td>공산당이 국민정당에 대해 민족정당이 된 것, 정치보고에 민족정신 등에 대한 강조가...</td>\n",
       "      <td>예를 들어, 앞에서 보았듯이 “당헌” 개정에 의해 공산당이 ‘중화민족의 선봉대’로 ...</td>\n",
       "    </tr>\n",
       "    <tr>\n",
       "      <th>3</th>\n",
       "      <td>3</td>\n",
       "      <td>3</td>\n",
       "      <td>2.3.2 제10기 전국인민대표대회 제 1차 회의(2003년)\\n 2003년 3월 ...</td>\n",
       "      <td>2003년의 10기 전국인대 1차 회의는 주요 국가지도자에 대한 인선이 있었고 공...</td>\n",
       "      <td>또한 제 10기 전국인대 첫 번째 회의는 5년 임기의 제 10기 전국인대가 시작하는...</td>\n",
       "    </tr>\n",
       "    <tr>\n",
       "      <th>4</th>\n",
       "      <td>4</td>\n",
       "      <td>4</td>\n",
       "      <td>1) 인선에 대한 총괄평가\\n 제 10기 전국인대 제 1차 회의에서 선출(비준)된...</td>\n",
       "      <td>10기 전국인대 1차 회의는 완전하고 실질적인 권력이양이 이루어지지 않았다. 이에...</td>\n",
       "      <td>이를 두고 일부 언론에서는 “장쩌민이 반은 퇴임했지만 실제로는 퇴임하지 않았으며”,...</td>\n",
       "    </tr>\n",
       "  </tbody>\n",
       "</table>\n",
       "</div>"
      ],
      "text/plain": [
       "   index  Unnamed: 0                                            passage  \\\n",
       "0      0           0   이 장은 후진타오(호금도) 시대가 어떤 과정을 통해 등장했는가를 검토하는 것이다....   \n",
       "1      1           1   한편 사영기업가의 입당허용이 단기간에 중국정치에 변화를 몰고 올 것 같지는 않다....   \n",
       "2      2           2   그런데 제 16차 당 대회에서는 민족주의를 강조하는 경향이 이전보다 더욱 두드러졌...   \n",
       "3      3           3  2.3.2 제10기 전국인민대표대회 제 1차 회의(2003년)\\n 2003년 3월 ...   \n",
       "4      4           4   1) 인선에 대한 총괄평가\\n 제 10기 전국인대 제 1차 회의에서 선출(비준)된...   \n",
       "\n",
       "                                             summary  \\\n",
       "0   후진타오 시대는 제 3세대 지도자가 물러나며 제 4세대 지도자가 새로운 통치 집단...   \n",
       "1   사영기업가 계층은 국가의 통제를 아직 벗어나지 못했다는 등의 이유로 단기간에 중국...   \n",
       "2   공산당이 국민정당에 대해 민족정당이 된 것, 정치보고에 민족정신 등에 대한 강조가...   \n",
       "3   2003년의 10기 전국인대 1차 회의는 주요 국가지도자에 대한 인선이 있었고 공...   \n",
       "4   10기 전국인대 1차 회의는 완전하고 실질적인 권력이양이 이루어지지 않았다. 이에...   \n",
       "\n",
       "                                             extract  \n",
       "0  이 장은 후진타오(호금도) 시대가 어떤 과정을 통해 등장했는가를 검토하는 것이다.\\...  \n",
       "1  다만 사영기업가 계층의 정치적 영향력은 지역에 따라 큰 차이를 보일 것이다.\\n예를...  \n",
       "2  예를 들어, 앞에서 보았듯이 “당헌” 개정에 의해 공산당이 ‘중화민족의 선봉대’로 ...  \n",
       "3  또한 제 10기 전국인대 첫 번째 회의는 5년 임기의 제 10기 전국인대가 시작하는...  \n",
       "4  이를 두고 일부 언론에서는 “장쩌민이 반은 퇴임했지만 실제로는 퇴임하지 않았으며”,...  "
      ]
     },
     "execution_count": 16,
     "metadata": {},
     "output_type": "execute_result"
    }
   ],
   "source": [
    "df.head()"
   ]
  },
  {
   "cell_type": "code",
   "execution_count": 17,
   "id": "eebee08b-2c80-49f5-9d6b-96237b23d463",
   "metadata": {},
   "outputs": [
    {
     "data": {
      "text/plain": [
       "'이 장은 후진타오(호금도) 시대가 어떤 과정을 통해 등장했는가를 검토하는 것이다.\\n따라서 이 기간은 장쩌민 시대와 후진타오 시대가 공존하는 일종의 과도기라고 할 수 있다.'"
      ]
     },
     "execution_count": 17,
     "metadata": {},
     "output_type": "execute_result"
    }
   ],
   "source": [
    "df.loc[0, 'extract']"
   ]
  },
  {
   "cell_type": "code",
   "execution_count": 18,
   "id": "1924967f-1300-495f-8d3a-c84884b73d64",
   "metadata": {},
   "outputs": [
    {
     "name": "stdout",
     "output_type": "stream",
     "text": [
      "43 번째 문장\n",
      "========================================================================================================================\n",
      "\n",
      "원문: \n",
      "\n",
      " 종합적으로 볼 때, 중국이 국내 경제발전에 전념할 수 있는 비교적 평화적이고 안정적인 국제환경이 조성되었다는 것이다. 이런 시대인식과 국제정세에 대한 판단은 지금까지 이어진다. 예를 들어, 2002년 제 16차 당 대회 보고에서 장쩌민(강택민)은 “평화와 발전이 여전히 현시대의 주제”이며, “비교적 장기간에 걸쳐 평화적 국제환경과 양호한 주변 환경을 쟁취하는 것이 실현 가능”하다고 주장했다.\n",
      " 여기에 더해 중국 정치지도자들은, 현재 중국은 건국 이래 가장 유리한 평화롭고 안정적인 국제환경에 놓였다고 생각한다. 이러한 중국의 인식은 아시아 안보질서에 대한 최근의 일부학자들의 주장과 일치하는 면이 있다. 물론 이들이 현재의 국제정세에 문제가 없다고 생각하는 것은 아니다. 미국의 패권주의와 강권정치가 새롭게 발전하고 있고 군사적 간섭주의와 경제적 식민주의도 지속되고 있다는 것이다. 또한 중국 정치지도자들에 따르면 국부적 무력충돌이 빈발하고, 불공정하고 불합리한 국제정치경제 질서는 아직도 개선되지 않았다. 그밖에도 전통적 위협에 더해 사스(SARS) 등의 전염병이나 경제위기와 같은 비전통적 위협이 국가안보를 위협한다. 그렇지만 전체적으로 보면 중국이 당면한 국제환경은 평화롭고 안정적이다. 이 추세는 앞으로 20년 동안은 지속될 것이고, 그래서 중국은 천재일우의 중요한 전략적 기회를 얻게 되었다고 주장한다.\n",
      "\n",
      "\n",
      "AI 요약: \n",
      "\n",
      " 중국은 경제발전에 전념할 수 있는 국제환경이 조성되었다. 미국의 패권주의와 강권정치의 발전, 국부적 무력충돌의 빈발 등으로 일부 학자들은 현재 중국의 국제정세에 문제가 있다고 생각한다. 하지만 이런 중국의 국제환경은 전체적으로 평화적, 안정적이다. 이 추세는 20년 동안 지속될 것이며 이에 중국은 중요한 전략적 기회를 얻었다고 주장한다.\n",
      "\n",
      "\n",
      "Gensim 요약: \n",
      "\n",
      "종합적으로 볼 때, 중국이 국내 경제발전에 전념할 수 있는 비교적 평화적이고 안정적인 국제환경이 조성되었다는 것이다.\n",
      "여기에 더해 중국 정치지도자들은, 현재 중국은 건국 이래 가장 유리한 평화롭고 안정적인 국제환경에 놓였다고 생각한다.\n",
      "\n",
      "\n"
     ]
    }
   ],
   "source": [
    "# 시각화\n",
    "# 100개 중에 랜덤하게 숫자를 생성 후 원문과 AI요약, gensim 요약 내용을 가져옴\n",
    "for i in range(0,1):\n",
    "    random_number = np.random.randint(0, 100, size=1)\n",
    "    print(f'{random_number[0]}' + ' 번째 문장')\n",
    "    print(\"=\"*120 + '\\n')\n",
    "    print('원문: \\n\\n' + df['passage'][random_number[0]] + '\\n\\n')\n",
    "    print('AI 요약: \\n\\n' + df['summary'][random_number[0]] + '\\n\\n')\n",
    "    print('Gensim 요약: \\n\\n'+ df['extract'][random_number[0]] + '\\n\\n')"
   ]
  }
 ],
 "metadata": {
  "kernelspec": {
   "display_name": "Python 3",
   "language": "python",
   "name": "python3"
  },
  "language_info": {
   "codemirror_mode": {
    "name": "ipython",
    "version": 3
   },
   "file_extension": ".py",
   "mimetype": "text/x-python",
   "name": "python",
   "nbconvert_exporter": "python",
   "pygments_lexer": "ipython3",
   "version": "3.6.9"
  }
 },
 "nbformat": 4,
 "nbformat_minor": 5
}
