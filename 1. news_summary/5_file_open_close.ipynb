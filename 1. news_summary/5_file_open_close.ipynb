{
 "cells": [
  {
   "cell_type": "markdown",
   "id": "eb30e71c-4831-4396-8a9b-6af84c2f53b5",
   "metadata": {},
   "source": [
    "# **텍스트 파일 저장 - open, close**\n",
    "---\n",
    "### 📌 **개요**\n",
    "> 1. 바이너리 파일을 문자열로 변경 - base64 <br>\n",
    "> 2. 문자열에서 키워드 추출 - textwrap, re <br>\n",
    "> 3. 단어 개수 구하기 - collections.Counter <br>\n",
    "> 4. 문서 요약하기 - gensim <br>\n",
    "> 5. 텍스트 파일 저장 - open, close <br>\n",
    "> 6. 실습"
   ]
  },
  {
   "cell_type": "markdown",
   "id": "4b3fbacf-ad55-47d1-bde1-61b85c662fb6",
   "metadata": {},
   "source": [
    "### **open, close**"
   ]
  },
  {
   "cell_type": "markdown",
   "id": "ac623cd9-e5eb-4935-8bf4-f58838e30f99",
   "metadata": {},
   "source": [
    "> - 사용 방법\n",
    ">   - 파일 객체 = open(파일 이름, 파일 열기 모드)\n",
    ">   - 파일 객체.close()\n",
    "\n",
    "|<center> 파일열기모드</center> | <center>설명 </center>                            |\n",
    "|:--------------|:------------------------------------------------------------|\n",
    "| r(읽기 모드)            | 파일을 읽기만 할 때 사용                        |\n",
    "| w(쓰기 모드)            | 파일에 내용을 쓰거나 새로 만들 때 사용, 기존에 내용이 있는 데 사용 시 덮어쓰게 됨                        |\n",
    "| a(추가 모드)            | 파일의 마지막에 새로운 내용을 추가 시킬 때 사용 |"
   ]
  },
  {
   "cell_type": "markdown",
   "id": "8b4d81e5-62d7-4fa7-b78f-e3398c9a05ef",
   "metadata": {},
   "source": [
    "### **파일 생성**"
   ]
  },
  {
   "cell_type": "code",
   "execution_count": 1,
   "id": "e6f51cee-9e7b-4716-aaff-0616a965c8df",
   "metadata": {},
   "outputs": [],
   "source": [
    "%config Completer.use_jedi = False"
   ]
  },
  {
   "cell_type": "code",
   "execution_count": 2,
   "id": "78e60c3f-cc60-4e19-9e29-b0cca2dcb4e3",
   "metadata": {},
   "outputs": [],
   "source": [
    "#텍스트 파일 생성\n",
    "f = open(\"new_file.txt\", 'w')\n",
    "f.close()"
   ]
  },
  {
   "cell_type": "markdown",
   "id": "5ed86ab8-2221-4dc9-964c-0916af3ecef6",
   "metadata": {},
   "source": [
    "#### new_file 확인\n",
    "- new_file은 빈 파일임을 확인\n",
    "``` bash\n",
    "$ cat new_file.txt \n",
    "$\n",
    "```"
   ]
  },
  {
   "cell_type": "markdown",
   "id": "7b973d25-4615-40b7-b8f9-2d507d2907bf",
   "metadata": {},
   "source": [
    "### **파일 쓰기**"
   ]
  },
  {
   "cell_type": "code",
   "execution_count": 3,
   "id": "56eb66c7-ca24-4046-bcae-402889ed3921",
   "metadata": {},
   "outputs": [],
   "source": [
    "# 텍스트 파일 쓰기\n",
    "# 'w'는 기존 내용이 사라지고 새롭게 덮어써지게 되므로 주의가 필요함!\n",
    "# close를 해주지 않으면 내용이 저장되지 않음\n",
    "f = open(\"new_file.txt\", 'w')\n",
    "for i in range(1, 11):\n",
    "    data = \"This is the %d line. \\n\" % i\n",
    "    f.write(data)\n",
    "f.close()"
   ]
  },
  {
   "cell_type": "markdown",
   "id": "5ee7b89a-4212-4910-8967-399806cf81eb",
   "metadata": {
    "tags": []
   },
   "source": [
    "#### new_file 확인\n",
    "- new_file 내용 확인\n",
    "``` bash\n",
    "$ cat new_file.txt \n",
    "This is the 1 line. \n",
    "This is the 2 line. \n",
    "This is the 3 line. \n",
    "This is the 4 line. \n",
    "This is the 5 line. \n",
    "This is the 6 line. \n",
    "This is the 7 line. \n",
    "This is the 8 line. \n",
    "This is the 9 line. \n",
    "This is the 10 line.\n",
    "```"
   ]
  },
  {
   "cell_type": "markdown",
   "id": "73c2bb9b-0cb1-43f7-9901-9a456810e5ee",
   "metadata": {},
   "source": [
    "### **파일읽기**"
   ]
  },
  {
   "cell_type": "code",
   "execution_count": 4,
   "id": "9a2ec414-0ae1-49bf-8368-cd521815a79e",
   "metadata": {},
   "outputs": [
    {
     "name": "stdout",
     "output_type": "stream",
     "text": [
      "This is the 1 line. \n",
      "\n"
     ]
    }
   ],
   "source": [
    "# 한줄 읽기(readline)\n",
    "f = open(\"new_file.txt\", 'r')\n",
    "line = f.readline()\n",
    "print(line)\n",
    "f.close()"
   ]
  },
  {
   "cell_type": "code",
   "execution_count": 5,
   "id": "6d4ca630-11b1-489a-8438-d75a04163e37",
   "metadata": {},
   "outputs": [
    {
     "name": "stdout",
     "output_type": "stream",
     "text": [
      "This is the 1 line. \n",
      "\n",
      "This is the 2 line. \n",
      "\n"
     ]
    }
   ],
   "source": [
    "# 여러줄 읽기\n",
    "# close 전까지 여러번의 readline을 통해 한줄씩 읽어오는 방법 \n",
    "f = open(\"new_file.txt\", 'r')\n",
    "line = f.readline()\n",
    "print(line)\n",
    "line = f.readline()\n",
    "print(line)\n",
    "f.close()"
   ]
  },
  {
   "cell_type": "code",
   "execution_count": 6,
   "id": "65750ed8-3da2-4213-b254-42ff70357646",
   "metadata": {},
   "outputs": [
    {
     "name": "stdout",
     "output_type": "stream",
     "text": [
      "This is the 1 line. \n",
      "\n",
      "This is the 2 line. \n",
      "\n",
      "This is the 3 line. \n",
      "\n",
      "This is the 4 line. \n",
      "\n",
      "This is the 5 line. \n",
      "\n",
      "This is the 6 line. \n",
      "\n",
      "This is the 7 line. \n",
      "\n",
      "This is the 8 line. \n",
      "\n",
      "This is the 9 line. \n",
      "\n",
      "This is the 10 line. \n",
      "\n"
     ]
    }
   ],
   "source": [
    "# 모든 줄 읽기\n",
    "f = open(\"new_file.txt\", 'r')\n",
    "lines = f.readlines()\n",
    "for line in lines:\n",
    "    print(line)\n",
    "f.close()"
   ]
  },
  {
   "cell_type": "markdown",
   "id": "90670606-5a38-4c44-b7c9-ee4b774ba307",
   "metadata": {},
   "source": [
    "### **내용 추가하기**"
   ]
  },
  {
   "cell_type": "code",
   "execution_count": 7,
   "id": "1509eac9-dd8f-4c85-970f-a7ca6620c538",
   "metadata": {},
   "outputs": [],
   "source": [
    "# 텍스트 파일 내용 추가하기\n",
    "f = open(\"new_file.txt\", 'a')\n",
    "for i in range(11, 21):\n",
    "    data = \"This is the %d line. \\n\" % i\n",
    "    f.write(data)\n",
    "f.close()"
   ]
  },
  {
   "cell_type": "code",
   "execution_count": 8,
   "id": "3c960f0f-f5ab-4ed1-9df5-cf619e75831d",
   "metadata": {},
   "outputs": [
    {
     "name": "stdout",
     "output_type": "stream",
     "text": [
      "This is the 1 line. \n",
      "\n",
      "This is the 2 line. \n",
      "\n",
      "This is the 3 line. \n",
      "\n",
      "This is the 4 line. \n",
      "\n",
      "This is the 5 line. \n",
      "\n",
      "This is the 6 line. \n",
      "\n",
      "This is the 7 line. \n",
      "\n",
      "This is the 8 line. \n",
      "\n",
      "This is the 9 line. \n",
      "\n",
      "This is the 10 line. \n",
      "\n",
      "This is the 11 line. \n",
      "\n",
      "This is the 12 line. \n",
      "\n",
      "This is the 13 line. \n",
      "\n",
      "This is the 14 line. \n",
      "\n",
      "This is the 15 line. \n",
      "\n",
      "This is the 16 line. \n",
      "\n",
      "This is the 17 line. \n",
      "\n",
      "This is the 18 line. \n",
      "\n",
      "This is the 19 line. \n",
      "\n",
      "This is the 20 line. \n",
      "\n"
     ]
    }
   ],
   "source": [
    "# 파일 내용 확인\n",
    "f = open(\"new_file.txt\", 'r')\n",
    "lines = f.readlines()\n",
    "for line in lines:\n",
    "    print(line)\n",
    "f.close()"
   ]
  },
  {
   "cell_type": "markdown",
   "id": "10b30b61-c720-4d76-95b6-3a6a2f964f3f",
   "metadata": {},
   "source": [
    "### **with문 사용**\n",
    "> - with문을 사용 시 close()를 사용하지 않아도 파일이 저장되는 이점이 있음"
   ]
  },
  {
   "cell_type": "code",
   "execution_count": 9,
   "id": "48b8852a-8909-432e-b03f-405419f79937",
   "metadata": {},
   "outputs": [],
   "source": [
    "# with문을 사용해서 파일 쓰기\n",
    "with open(\"new_file.txt\", \"w\") as f:   # f = open(\"new_file.txt\", 'r')와 같은 내용임\n",
    "    for i in range(1, 11):\n",
    "        data = \"This is the %d line. \\n\" % i\n",
    "        f.write(data)"
   ]
  },
  {
   "cell_type": "code",
   "execution_count": 10,
   "id": "1eb5b172-4cdb-4cc3-ba55-72d1f0fba81e",
   "metadata": {},
   "outputs": [
    {
     "name": "stdout",
     "output_type": "stream",
     "text": [
      "This is the 1 line. \n",
      "\n",
      "This is the 2 line. \n",
      "\n",
      "This is the 3 line. \n",
      "\n",
      "This is the 4 line. \n",
      "\n",
      "This is the 5 line. \n",
      "\n",
      "This is the 6 line. \n",
      "\n",
      "This is the 7 line. \n",
      "\n",
      "This is the 8 line. \n",
      "\n",
      "This is the 9 line. \n",
      "\n",
      "This is the 10 line. \n",
      "\n"
     ]
    }
   ],
   "source": [
    "# 파일 내용 확인\n",
    "with open(\"new_file.txt\", \"r\") as f:\n",
    "    lines = f.readlines()\n",
    "    for line in lines:\n",
    "        print(line)"
   ]
  }
 ],
 "metadata": {
  "kernelspec": {
   "display_name": "Python 3",
   "language": "python",
   "name": "python3"
  },
  "language_info": {
   "codemirror_mode": {
    "name": "ipython",
    "version": 3
   },
   "file_extension": ".py",
   "mimetype": "text/x-python",
   "name": "python",
   "nbconvert_exporter": "python",
   "pygments_lexer": "ipython3",
   "version": "3.6.9"
  }
 },
 "nbformat": 4,
 "nbformat_minor": 5
}
