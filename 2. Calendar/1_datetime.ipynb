{
 "cells": [
  {
   "cell_type": "markdown",
   "id": "d91419fa-426b-4eb5-b3d2-2931ab812ad1",
   "metadata": {},
   "source": [
    "# **[날짜] 파이썬으로 달력 만들기!**\n",
    "\n",
    "\n",
    "---\n",
    "### 📝 **학습 목차**\n",
    "> **1. 프로젝트 개요** <br>\n",
    "> **2. 날짜 및 요일 계산 - datetime** <br>\n",
    "> 3. 윤년 확인 - calendar.isleap <br>\n",
    "> 4. 날짜 출력 - strptime, strftime <br>\n",
    "> 5. 그 외 시간 관련 - dateutil, time <br>\n",
    "> 6. 프로젝트 실습"
   ]
  },
  {
   "cell_type": "markdown",
   "id": "1e3929c7-fc7a-409e-aa2a-539fe9ce7eaf",
   "metadata": {},
   "source": [
    "### 1. 프로젝트 개요\n",
    "**달력을 만들기에 필요한 요소들**\n",
    "> - 윤년 확인 -> calendar.isleap<br>\n",
    "> - 매월의 마지막 날짜 계산 -> strptime<br>\n",
    "> - 현재까지의 지나온 날짜 계산 -> dateutil<br>\n",
    "> - 날짜의 요일 변환 -> datetime<br>"
   ]
  },
  {
   "cell_type": "markdown",
   "id": "50d85056-73f5-4e2c-9da4-6da24845e5b4",
   "metadata": {},
   "source": [
    "### 2. 날짜 및 요일 계산"
   ]
  },
  {
   "cell_type": "markdown",
   "id": "313787f2-334a-4521-9c03-58b0ee312663",
   "metadata": {},
   "source": [
    "**datetime**\n",
    "> - 날짜와 시간 데이터를 처리하는 파이썬 내장 라이브러리<br>\n",
    "> - 현재 시간에 대한 정보를 가져와 원하는 형식으로 지정하여 사용 가능<br>\n",
    "> - `timdelta` 객체를 활용해서 날짜/시간 연산이 가능하게 함<br>\n"
   ]
  },
  {
   "cell_type": "markdown",
   "id": "60eff357-8ab7-42ef-9507-ef31828bb984",
   "metadata": {},
   "source": [
    "#### **날짜 표현 - datetime.date**"
   ]
  },
  {
   "cell_type": "code",
   "execution_count": 1,
   "id": "c5ed1d38-2591-420e-89b7-ef5bf3bd4828",
   "metadata": {},
   "outputs": [],
   "source": [
    "import datetime\n",
    "\n",
    "# 날짜 표현\n",
    "day1 = datetime.date(2024, 3, 31)"
   ]
  },
  {
   "cell_type": "code",
   "execution_count": 2,
   "id": "7f6aab0e-0015-46ac-969f-7cf31f68e9d6",
   "metadata": {},
   "outputs": [
    {
     "data": {
      "text/plain": [
       "datetime.date(2024, 3, 31)"
      ]
     },
     "execution_count": 2,
     "metadata": {},
     "output_type": "execute_result"
    }
   ],
   "source": [
    "day1"
   ]
  },
  {
   "cell_type": "code",
   "execution_count": 3,
   "id": "e10905c0-2f19-44a7-803d-5e140c0958a4",
   "metadata": {},
   "outputs": [],
   "source": [
    "# 시간까지 입력 할때는 datetime.date\"time\"사용\n",
    "day2 = datetime.datetime(2024, 3, 31, 17, 42, 30)"
   ]
  },
  {
   "cell_type": "code",
   "execution_count": 4,
   "id": "b703f97f-dbb5-48a0-b56e-dd7c188bb157",
   "metadata": {},
   "outputs": [
    {
     "data": {
      "text/plain": [
       "datetime.datetime(2024, 3, 31, 17, 42, 30)"
      ]
     },
     "execution_count": 4,
     "metadata": {},
     "output_type": "execute_result"
    }
   ],
   "source": [
    "day2"
   ]
  },
  {
   "cell_type": "code",
   "execution_count": 5,
   "id": "82c03306-641d-490a-9286-43720e7a94f5",
   "metadata": {},
   "outputs": [
    {
     "data": {
      "text/plain": [
       "2024"
      ]
     },
     "execution_count": 5,
     "metadata": {},
     "output_type": "execute_result"
    }
   ],
   "source": [
    "# 연도\n",
    "day2.year"
   ]
  },
  {
   "cell_type": "code",
   "execution_count": 6,
   "id": "ad8c436f-1386-43aa-a271-f955584a55e4",
   "metadata": {},
   "outputs": [
    {
     "data": {
      "text/plain": [
       "3"
      ]
     },
     "execution_count": 6,
     "metadata": {},
     "output_type": "execute_result"
    }
   ],
   "source": [
    "#월\n",
    "day2.month"
   ]
  },
  {
   "cell_type": "code",
   "execution_count": 7,
   "id": "fe51f17a-0306-427f-9803-e61423e9f090",
   "metadata": {},
   "outputs": [
    {
     "data": {
      "text/plain": [
       "31"
      ]
     },
     "execution_count": 7,
     "metadata": {},
     "output_type": "execute_result"
    }
   ],
   "source": [
    "# 일\n",
    "day2.day"
   ]
  },
  {
   "cell_type": "code",
   "execution_count": 8,
   "id": "4c07d234-64f8-48e8-8ad1-f4c7b576fba8",
   "metadata": {},
   "outputs": [
    {
     "data": {
      "text/plain": [
       "17"
      ]
     },
     "execution_count": 8,
     "metadata": {},
     "output_type": "execute_result"
    }
   ],
   "source": [
    "#시\n",
    "day2.hour"
   ]
  },
  {
   "cell_type": "code",
   "execution_count": 9,
   "id": "992e0a30-0d02-4d3c-927b-20497b0b3956",
   "metadata": {},
   "outputs": [
    {
     "data": {
      "text/plain": [
       "42"
      ]
     },
     "execution_count": 9,
     "metadata": {},
     "output_type": "execute_result"
    }
   ],
   "source": [
    "#분\n",
    "day2.minute"
   ]
  },
  {
   "cell_type": "code",
   "execution_count": 10,
   "id": "f22380e6-fa92-4600-a5b0-4452c179a426",
   "metadata": {},
   "outputs": [
    {
     "data": {
      "text/plain": [
       "30"
      ]
     },
     "execution_count": 10,
     "metadata": {},
     "output_type": "execute_result"
    }
   ],
   "source": [
    "#초\n",
    "day2.second"
   ]
  },
  {
   "cell_type": "markdown",
   "id": "0bb61a66-cdde-4e41-a7b1-bbe802f443ea",
   "metadata": {},
   "source": [
    "#### **날짜/시간 합치기 - combine**"
   ]
  },
  {
   "cell_type": "code",
   "execution_count": 11,
   "id": "bf671cd7-47be-4df1-8a5c-1a5e6265ccd9",
   "metadata": {},
   "outputs": [],
   "source": [
    "day = datetime.date(2024, 3, 31)\n",
    "time = datetime.time(17, 48, 33)"
   ]
  },
  {
   "cell_type": "code",
   "execution_count": 12,
   "id": "c10791b3-bf5a-4fa8-895c-b3b2148fe761",
   "metadata": {},
   "outputs": [],
   "source": [
    "dt = datetime.datetime.combine(day, time)"
   ]
  },
  {
   "cell_type": "code",
   "execution_count": 13,
   "id": "5ebf6360-4706-4bee-acf9-19c5bd282f7a",
   "metadata": {},
   "outputs": [
    {
     "data": {
      "text/plain": [
       "datetime.datetime(2024, 3, 31, 17, 48, 33)"
      ]
     },
     "execution_count": 13,
     "metadata": {},
     "output_type": "execute_result"
    }
   ],
   "source": [
    "dt"
   ]
  },
  {
   "cell_type": "markdown",
   "id": "ffb9919e-61ca-46c1-b864-83605ab34433",
   "metadata": {},
   "source": [
    "#### **현재 날짜/시간 - today, now**"
   ]
  },
  {
   "cell_type": "code",
   "execution_count": 14,
   "id": "89f6fb5a-a4a7-4cf6-9927-32d4592fb1f9",
   "metadata": {},
   "outputs": [
    {
     "data": {
      "text/plain": [
       "datetime.date(2024, 3, 31)"
      ]
     },
     "execution_count": 14,
     "metadata": {},
     "output_type": "execute_result"
    }
   ],
   "source": [
    "datetime.date.today()"
   ]
  },
  {
   "cell_type": "code",
   "execution_count": 15,
   "id": "20b71501-d46c-40b4-b6c1-cd7dc5e17859",
   "metadata": {},
   "outputs": [
    {
     "data": {
      "text/plain": [
       "datetime.datetime(2024, 3, 31, 8, 58, 5, 654485)"
      ]
     },
     "execution_count": 15,
     "metadata": {},
     "output_type": "execute_result"
    }
   ],
   "source": [
    "datetime.datetime.now()"
   ]
  },
  {
   "cell_type": "markdown",
   "id": "e1e23b89-99c1-4f2e-91da-9bf03249b870",
   "metadata": {},
   "source": [
    "#### **날짜 계산 - timedelta**"
   ]
  },
  {
   "cell_type": "code",
   "execution_count": 16,
   "id": "5105faa4-c4e3-41d6-b2df-1bc8388862b1",
   "metadata": {},
   "outputs": [],
   "source": [
    "day1 = datetime.date(2024, 3, 31)\n",
    "day2 = datetime.date(2024, 4, 3)"
   ]
  },
  {
   "cell_type": "code",
   "execution_count": 17,
   "id": "837fcaa4-7977-4680-8dc6-13fbac7be678",
   "metadata": {},
   "outputs": [],
   "source": [
    "# 날짜 뺄셈\n",
    "diff = day2 - day1"
   ]
  },
  {
   "cell_type": "code",
   "execution_count": 18,
   "id": "99e11be6-0032-434d-9f19-8ebc108e59e4",
   "metadata": {},
   "outputs": [
    {
     "data": {
      "text/plain": [
       "datetime.timedelta(3)"
      ]
     },
     "execution_count": 18,
     "metadata": {},
     "output_type": "execute_result"
    }
   ],
   "source": [
    "diff"
   ]
  },
  {
   "cell_type": "code",
   "execution_count": 19,
   "id": "018546c7-50f5-4787-8346-c56b1d1c7096",
   "metadata": {},
   "outputs": [],
   "source": [
    "# 날짜 뺄셈\n",
    "plus = datetime.timedelta(days=30)"
   ]
  },
  {
   "cell_type": "code",
   "execution_count": 20,
   "id": "c25eda58-6047-4c26-b184-33af20126fa9",
   "metadata": {},
   "outputs": [],
   "source": [
    "add = day1 + plus"
   ]
  },
  {
   "cell_type": "code",
   "execution_count": 21,
   "id": "c2ef7aa0-d6b0-460c-957c-d17a1eae22c8",
   "metadata": {},
   "outputs": [
    {
     "data": {
      "text/plain": [
       "datetime.date(2024, 4, 30)"
      ]
     },
     "execution_count": 21,
     "metadata": {},
     "output_type": "execute_result"
    }
   ],
   "source": [
    "add"
   ]
  },
  {
   "cell_type": "markdown",
   "id": "1f828731-1d67-4d58-ac72-e1d40323cd1b",
   "metadata": {},
   "source": [
    "#### **요일 판별 - weekday**"
   ]
  },
  {
   "cell_type": "markdown",
   "id": "eb22a886-dd79-4583-840c-f2fe23f941f3",
   "metadata": {},
   "source": [
    "- 월(0), 화(1), 수(2), 목(3), 금(4), 토(5), 일(6)"
   ]
  },
  {
   "cell_type": "code",
   "execution_count": 22,
   "id": "94fbd17e-e5b5-4f56-b446-2759a6ade81b",
   "metadata": {},
   "outputs": [],
   "source": [
    "day1 = datetime.date(2024, 4, 10)\n",
    "day2 = datetime.date(2024, 5, 5)"
   ]
  },
  {
   "cell_type": "code",
   "execution_count": 23,
   "id": "d9f3ce0a-e8db-4630-9010-e25af9377195",
   "metadata": {},
   "outputs": [
    {
     "data": {
      "text/plain": [
       "2"
      ]
     },
     "execution_count": 23,
     "metadata": {},
     "output_type": "execute_result"
    }
   ],
   "source": [
    "day1.weekday()"
   ]
  },
  {
   "cell_type": "code",
   "execution_count": 24,
   "id": "5312e5c0-143b-483e-a129-328af8f28c14",
   "metadata": {},
   "outputs": [
    {
     "data": {
      "text/plain": [
       "6"
      ]
     },
     "execution_count": 24,
     "metadata": {},
     "output_type": "execute_result"
    }
   ],
   "source": [
    "day2.weekday()"
   ]
  }
 ],
 "metadata": {
  "kernelspec": {
   "display_name": "Python 3",
   "language": "python",
   "name": "python3"
  },
  "language_info": {
   "codemirror_mode": {
    "name": "ipython",
    "version": 3
   },
   "file_extension": ".py",
   "mimetype": "text/x-python",
   "name": "python",
   "nbconvert_exporter": "python",
   "pygments_lexer": "ipython3",
   "version": "3.6.9"
  }
 },
 "nbformat": 4,
 "nbformat_minor": 5
}
