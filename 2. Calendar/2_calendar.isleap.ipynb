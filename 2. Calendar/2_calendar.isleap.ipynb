{
 "cells": [
  {
   "cell_type": "markdown",
   "id": "5ba085d8-7afb-4c73-b2f1-08ba7309594b",
   "metadata": {},
   "source": [
    "# **[날짜] 파이썬으로 달력 만들기!**\n",
    "\n",
    "\n",
    "---\n",
    "### 📝 **학습 목차**\n",
    "> **3. 윤년 확인 - calendar.isleap** <br>\n",
    "> 4. 날짜 출력 - strptime, strftime <br>\n",
    "> 5. 그 외 시간 관련 - dateutil, time <br>\n",
    "> 6. 프로젝트 실습"
   ]
  },
  {
   "cell_type": "markdown",
   "id": "e9ba4b9e-7c57-437f-8f50-c242611d3485",
   "metadata": {},
   "source": [
    "## 윤년 확인\n",
    "- 4년마다 돌아오는 **2월이 29일까지 인 해** <br>\n",
    "\n",
    "- 연도가 4로 나누어 떨어지면서<br>\n",
    "- 100으로 나누어 떨어지는 연도는 제외<br>\n",
    "- 또는 400으로 나누어 떨어지는 연도는 윤년이다 <br>\n",
    "\n",
    "((year % 4 == 0) and (year % 100 != 0)) or (year % 400 == 0)"
   ]
  },
  {
   "cell_type": "markdown",
   "id": "4654dd7b-749e-4a39-87db-86887e2546df",
   "metadata": {},
   "source": [
    "#### **윤년 팔별 함수**"
   ]
  },
  {
   "cell_type": "markdown",
   "id": "ef39800e-47a4-409a-9d63-bc78134bd30b",
   "metadata": {},
   "source": [
    "- 위에서 작성한 식을 토대로 함수를 작성하여 윤년 판별"
   ]
  },
  {
   "cell_type": "code",
   "execution_count": 1,
   "id": "3c50c99a-cf0f-47a1-8636-298e79b560fa",
   "metadata": {},
   "outputs": [],
   "source": [
    "%config Completer.use_jedi = False"
   ]
  },
  {
   "cell_type": "code",
   "execution_count": 2,
   "id": "59b7e518-0040-443e-8b5f-07279d9a7fa4",
   "metadata": {},
   "outputs": [],
   "source": [
    "# 윤년이면 True, 아니면 False 를 출력하는 함수\n",
    "def isLeapYear(year):\n",
    "    return year % 4 == 0 and year % 100 != 0 or year % 400 == 0"
   ]
  },
  {
   "cell_type": "code",
   "execution_count": 3,
   "id": "716f2e63-c472-425f-a3e5-552a4b96031a",
   "metadata": {},
   "outputs": [
    {
     "data": {
      "text/plain": [
       "True"
      ]
     },
     "execution_count": 3,
     "metadata": {},
     "output_type": "execute_result"
    }
   ],
   "source": [
    "isLeapYear(2024)"
   ]
  },
  {
   "cell_type": "code",
   "execution_count": 4,
   "id": "73ea9b6e-f786-4848-bf21-4f0e53f9a6a3",
   "metadata": {},
   "outputs": [
    {
     "data": {
      "text/plain": [
       "False"
      ]
     },
     "execution_count": 4,
     "metadata": {},
     "output_type": "execute_result"
    }
   ],
   "source": [
    "isLeapYear(2026)"
   ]
  },
  {
   "cell_type": "markdown",
   "id": "fcb48e4f-897c-41ad-b9b3-8baf2ec6ec52",
   "metadata": {},
   "source": [
    "#### **달력 관련 라이브러리 - calendar**"
   ]
  },
  {
   "cell_type": "markdown",
   "id": "b36161b3-1bed-4891-b434-a31065467131",
   "metadata": {},
   "source": [
    "- 달력 라이브러리를 사용하여 윤년 판별"
   ]
  },
  {
   "cell_type": "code",
   "execution_count": 5,
   "id": "457ec50b-d8bc-4fe8-8c6f-c66a194d3627",
   "metadata": {},
   "outputs": [],
   "source": [
    "import calendar"
   ]
  },
  {
   "cell_type": "code",
   "execution_count": 6,
   "id": "3406c75e-a811-441c-9903-1bfd83ff0b3e",
   "metadata": {},
   "outputs": [
    {
     "data": {
      "text/plain": [
       "True"
      ]
     },
     "execution_count": 6,
     "metadata": {},
     "output_type": "execute_result"
    }
   ],
   "source": [
    "calendar.isleap(2024)"
   ]
  },
  {
   "cell_type": "code",
   "execution_count": 7,
   "id": "feedd390-28ec-40ac-80d2-651a8fbdfe0c",
   "metadata": {},
   "outputs": [
    {
     "data": {
      "text/plain": [
       "False"
      ]
     },
     "execution_count": 7,
     "metadata": {},
     "output_type": "execute_result"
    }
   ],
   "source": [
    "calendar.isleap(2026)"
   ]
  },
  {
   "cell_type": "code",
   "execution_count": 8,
   "id": "be5b46e3-d62f-4cf4-928b-e064a9ad5ed8",
   "metadata": {},
   "outputs": [
    {
     "data": {
      "text/plain": [
       "8"
      ]
     },
     "execution_count": 8,
     "metadata": {},
     "output_type": "execute_result"
    }
   ],
   "source": [
    "# 지정한 기간 사이의 윤년의 횟수\n",
    "calendar.leapdays(1990, 2024)"
   ]
  },
  {
   "cell_type": "code",
   "execution_count": 9,
   "id": "bee77ef9-cc12-4ab2-91e7-0141bd6e161a",
   "metadata": {},
   "outputs": [
    {
     "data": {
      "text/plain": [
       "6"
      ]
     },
     "execution_count": 9,
     "metadata": {},
     "output_type": "execute_result"
    }
   ],
   "source": [
    "# 지정한 날짜의 요일 반환\n",
    "calendar.weekday(2024, 3, 31)"
   ]
  },
  {
   "cell_type": "code",
   "execution_count": 10,
   "id": "45a49518-068d-45d0-8414-4af384b5b030",
   "metadata": {},
   "outputs": [
    {
     "name": "stdout",
     "output_type": "stream",
     "text": [
      "                                  2024\n",
      "\n",
      "      January                   February                   March\n",
      "Mo Tu We Th Fr Sa Su      Mo Tu We Th Fr Sa Su      Mo Tu We Th Fr Sa Su\n",
      " 1  2  3  4  5  6  7                1  2  3  4                   1  2  3\n",
      " 8  9 10 11 12 13 14       5  6  7  8  9 10 11       4  5  6  7  8  9 10\n",
      "15 16 17 18 19 20 21      12 13 14 15 16 17 18      11 12 13 14 15 16 17\n",
      "22 23 24 25 26 27 28      19 20 21 22 23 24 25      18 19 20 21 22 23 24\n",
      "29 30 31                  26 27 28 29               25 26 27 28 29 30 31\n",
      "\n",
      "       April                      May                       June\n",
      "Mo Tu We Th Fr Sa Su      Mo Tu We Th Fr Sa Su      Mo Tu We Th Fr Sa Su\n",
      " 1  2  3  4  5  6  7             1  2  3  4  5                      1  2\n",
      " 8  9 10 11 12 13 14       6  7  8  9 10 11 12       3  4  5  6  7  8  9\n",
      "15 16 17 18 19 20 21      13 14 15 16 17 18 19      10 11 12 13 14 15 16\n",
      "22 23 24 25 26 27 28      20 21 22 23 24 25 26      17 18 19 20 21 22 23\n",
      "29 30                     27 28 29 30 31            24 25 26 27 28 29 30\n",
      "\n",
      "        July                     August                  September\n",
      "Mo Tu We Th Fr Sa Su      Mo Tu We Th Fr Sa Su      Mo Tu We Th Fr Sa Su\n",
      " 1  2  3  4  5  6  7                1  2  3  4                         1\n",
      " 8  9 10 11 12 13 14       5  6  7  8  9 10 11       2  3  4  5  6  7  8\n",
      "15 16 17 18 19 20 21      12 13 14 15 16 17 18       9 10 11 12 13 14 15\n",
      "22 23 24 25 26 27 28      19 20 21 22 23 24 25      16 17 18 19 20 21 22\n",
      "29 30 31                  26 27 28 29 30 31         23 24 25 26 27 28 29\n",
      "                                                    30\n",
      "\n",
      "      October                   November                  December\n",
      "Mo Tu We Th Fr Sa Su      Mo Tu We Th Fr Sa Su      Mo Tu We Th Fr Sa Su\n",
      "    1  2  3  4  5  6                   1  2  3                         1\n",
      " 7  8  9 10 11 12 13       4  5  6  7  8  9 10       2  3  4  5  6  7  8\n",
      "14 15 16 17 18 19 20      11 12 13 14 15 16 17       9 10 11 12 13 14 15\n",
      "21 22 23 24 25 26 27      18 19 20 21 22 23 24      16 17 18 19 20 21 22\n",
      "28 29 30 31               25 26 27 28 29 30         23 24 25 26 27 28 29\n",
      "                                                    30 31\n",
      "\n"
     ]
    }
   ],
   "source": [
    "# 달력 출력\n",
    "print(calendar.calendar(2024))"
   ]
  }
 ],
 "metadata": {
  "kernelspec": {
   "display_name": "Python 3",
   "language": "python",
   "name": "python3"
  },
  "language_info": {
   "codemirror_mode": {
    "name": "ipython",
    "version": 3
   },
   "file_extension": ".py",
   "mimetype": "text/x-python",
   "name": "python",
   "nbconvert_exporter": "python",
   "pygments_lexer": "ipython3",
   "version": "3.6.9"
  }
 },
 "nbformat": 4,
 "nbformat_minor": 5
}
