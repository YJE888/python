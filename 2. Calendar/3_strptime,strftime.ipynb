{
 "cells": [
  {
   "cell_type": "markdown",
   "id": "f38ff3ab-b22d-4a0d-a5c9-6a69e377cb4f",
   "metadata": {},
   "source": [
    "# **[날짜] 파이썬으로 달력 만들기!**\n",
    "\n",
    "\n",
    "---\n",
    "### 📝 **학습 목차**\n",
    "> **4. 날짜 출력 - strptime, strftime** <br>\n",
    "> 5. 그 외 시간 관련 - dateutil, time <br>\n",
    "> 6. 프로젝트 실습"
   ]
  },
  {
   "cell_type": "markdown",
   "id": "01d2737c-79b0-489f-91af-195ecc7d26d5",
   "metadata": {},
   "source": [
    "## 날짜 출력\n",
    "> ### strptime, strftime\n",
    "> - str`p`time - 날짜 형식 문자열을 datetime 객체로 변환 <br>\n",
    "> - str`f`time - datetime 객체를 날짜 형식 문자열로 변환"
   ]
  },
  {
   "cell_type": "markdown",
   "id": "867c81be-ddc6-4890-b935-0f8e5c372368",
   "metadata": {},
   "source": [
    "### strptime\n",
    "- 연(%Y), 월(%m), 일(%d), 시(%H), 분(%M), 초(%S)\n",
    "- [호환 가능 포멧 공식문서](https://docs.python.org/ko/3/library/datetime.html#strftime-strptime-behavior)"
   ]
  },
  {
   "cell_type": "code",
   "execution_count": 1,
   "id": "d8d56185-bd16-416e-bd7c-48a21a01445c",
   "metadata": {},
   "outputs": [],
   "source": [
    "import datetime"
   ]
  },
  {
   "cell_type": "code",
   "execution_count": 2,
   "id": "eedd0742-78fb-4069-8542-b7ff32e9c414",
   "metadata": {},
   "outputs": [],
   "source": [
    "str_datetime = '2024-04-08 21:31:48'  # 날짜 형식 문자열\n",
    "currdate = datetime.datetime.strptime(str_datetime, '%Y-%m-%d %H:%M:%S')"
   ]
  },
  {
   "cell_type": "code",
   "execution_count": 3,
   "id": "04643255-7753-4192-aba3-a047e809ffc5",
   "metadata": {},
   "outputs": [
    {
     "data": {
      "text/plain": [
       "datetime.datetime"
      ]
     },
     "execution_count": 3,
     "metadata": {},
     "output_type": "execute_result"
    }
   ],
   "source": [
    "type(currdate)"
   ]
  },
  {
   "cell_type": "code",
   "execution_count": 4,
   "id": "2004a578-9e6e-4135-abd4-3be119814d9b",
   "metadata": {},
   "outputs": [
    {
     "data": {
      "text/plain": [
       "datetime.datetime(2024, 4, 8, 21, 31, 48)"
      ]
     },
     "execution_count": 4,
     "metadata": {},
     "output_type": "execute_result"
    }
   ],
   "source": [
    "currdate"
   ]
  },
  {
   "cell_type": "markdown",
   "id": "a7d47fbf-349d-4741-8d3b-6244e1154f0a",
   "metadata": {},
   "source": [
    "### strftime"
   ]
  },
  {
   "cell_type": "code",
   "execution_count": 5,
   "id": "cd23345e-ffa0-41bf-ac80-ac0ba9167547",
   "metadata": {},
   "outputs": [],
   "source": [
    "import datetime\n",
    "now = datetime.datetime.now()"
   ]
  },
  {
   "cell_type": "code",
   "execution_count": 6,
   "id": "7f9f7daf-5239-464d-9702-a09ca6f76d3f",
   "metadata": {},
   "outputs": [
    {
     "data": {
      "text/plain": [
       "datetime.datetime(2024, 3, 31, 9, 40, 21, 575513)"
      ]
     },
     "execution_count": 6,
     "metadata": {},
     "output_type": "execute_result"
    }
   ],
   "source": [
    "now"
   ]
  },
  {
   "cell_type": "code",
   "execution_count": 7,
   "id": "ccaebd94-7d34-4f43-b6ed-48c2b41e172a",
   "metadata": {},
   "outputs": [
    {
     "data": {
      "text/plain": [
       "str"
      ]
     },
     "execution_count": 7,
     "metadata": {},
     "output_type": "execute_result"
    }
   ],
   "source": [
    "date = now.strftime('%Y-%m-%d')\n",
    "type(date)"
   ]
  },
  {
   "cell_type": "code",
   "execution_count": 8,
   "id": "394bcbf9-2691-49e7-b61b-4a79d6032948",
   "metadata": {},
   "outputs": [
    {
     "data": {
      "text/plain": [
       "'2024-03-31'"
      ]
     },
     "execution_count": 8,
     "metadata": {},
     "output_type": "execute_result"
    }
   ],
   "source": [
    "date"
   ]
  },
  {
   "cell_type": "code",
   "execution_count": 9,
   "id": "278d2a89-bcb9-435d-97f8-93838dbd758c",
   "metadata": {},
   "outputs": [
    {
     "data": {
      "text/plain": [
       "str"
      ]
     },
     "execution_count": 9,
     "metadata": {},
     "output_type": "execute_result"
    }
   ],
   "source": [
    "time = now.strftime('%H:%M:%S')\n",
    "type(time)"
   ]
  },
  {
   "cell_type": "code",
   "execution_count": 10,
   "id": "7222cb6f-a30e-4633-9de0-72f540147381",
   "metadata": {},
   "outputs": [
    {
     "data": {
      "text/plain": [
       "'09:40:21'"
      ]
     },
     "execution_count": 10,
     "metadata": {},
     "output_type": "execute_result"
    }
   ],
   "source": [
    "time"
   ]
  },
  {
   "cell_type": "code",
   "execution_count": 11,
   "id": "f783137d-f3e0-414f-ab66-f95cdd57d2f8",
   "metadata": {},
   "outputs": [
    {
     "data": {
      "text/plain": [
       "str"
      ]
     },
     "execution_count": 11,
     "metadata": {},
     "output_type": "execute_result"
    }
   ],
   "source": [
    "datetime = now.strftime('%Y-%m-%d %H:%M:%S')\n",
    "type(datetime)"
   ]
  },
  {
   "cell_type": "code",
   "execution_count": 12,
   "id": "c6eef9c0-7e34-4805-9309-270969c67a19",
   "metadata": {},
   "outputs": [
    {
     "data": {
      "text/plain": [
       "'2024-03-31 09:40:21'"
      ]
     },
     "execution_count": 12,
     "metadata": {},
     "output_type": "execute_result"
    }
   ],
   "source": [
    "datetime"
   ]
  }
 ],
 "metadata": {
  "kernelspec": {
   "display_name": "Python 3",
   "language": "python",
   "name": "python3"
  },
  "language_info": {
   "codemirror_mode": {
    "name": "ipython",
    "version": 3
   },
   "file_extension": ".py",
   "mimetype": "text/x-python",
   "name": "python",
   "nbconvert_exporter": "python",
   "pygments_lexer": "ipython3",
   "version": "3.6.9"
  }
 },
 "nbformat": 4,
 "nbformat_minor": 5
}
