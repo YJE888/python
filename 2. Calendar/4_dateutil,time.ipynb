{
 "cells": [
  {
   "cell_type": "markdown",
   "id": "7a4e3633-77f2-4475-acf0-3f755116ef3a",
   "metadata": {},
   "source": [
    "# **[날짜] 파이썬으로 달력 만들기!**\n",
    "\n",
    "\n",
    "---\n",
    "### 📝 **학습 목차**\n",
    "> **5. 그 외 시간 관련 - dateutil, time** <br>\n",
    "> 6. 프로젝트 실습"
   ]
  },
  {
   "cell_type": "markdown",
   "id": "f8e505a1-f883-445e-be4f-c451f61a49ba",
   "metadata": {},
   "source": [
    "## 3-5. 그 외 시간 관련 라이브러리"
   ]
  },
  {
   "cell_type": "markdown",
   "id": "777993c2-61cf-482b-9952-617cc03b4329",
   "metadata": {},
   "source": [
    "> ### dateutil\n",
    "> - `parse` 함수를 통해 자동으로 날짜 형식을 찾아서 datetime 객체로 변환함"
   ]
  },
  {
   "cell_type": "code",
   "execution_count": 1,
   "id": "9234c08f-7731-4258-b43a-cafc21ee91d7",
   "metadata": {},
   "outputs": [],
   "source": [
    "import datetime"
   ]
  },
  {
   "cell_type": "code",
   "execution_count": 2,
   "id": "6909cba1-02a9-4a3b-ba41-b38de6bf1f87",
   "metadata": {},
   "outputs": [
    {
     "data": {
      "text/plain": [
       "datetime.datetime(2024, 10, 15, 0, 0)"
      ]
     },
     "execution_count": 2,
     "metadata": {},
     "output_type": "execute_result"
    }
   ],
   "source": [
    "# strptime 활용\n",
    "date = '2024-10-15'\n",
    "date_parsed = datetime.datetime.strptime(date, '%Y-%m-%d')\n",
    "date_parsed"
   ]
  },
  {
   "cell_type": "code",
   "execution_count": 3,
   "id": "465225a6-3b20-4aeb-8fd1-1afde27c55aa",
   "metadata": {},
   "outputs": [],
   "source": [
    "from dateutil.parser import parse"
   ]
  },
  {
   "cell_type": "code",
   "execution_count": 4,
   "id": "20a702e9-a592-4db6-945e-220372d6eb67",
   "metadata": {},
   "outputs": [
    {
     "data": {
      "text/plain": [
       "datetime.datetime(2024, 10, 15, 0, 0)"
      ]
     },
     "execution_count": 4,
     "metadata": {},
     "output_type": "execute_result"
    }
   ],
   "source": [
    "# dateutil 활용(strptime은 '%Y-%m-%d' 지정이 없을 경우 오류 발생)\n",
    "parse(date)"
   ]
  },
  {
   "cell_type": "code",
   "execution_count": 5,
   "id": "fbff3187-8775-4366-b61b-dbbb4ec9132b",
   "metadata": {},
   "outputs": [
    {
     "data": {
      "text/plain": [
       "datetime.datetime(2024, 10, 15, 16, 5, 32)"
      ]
     },
     "execution_count": 5,
     "metadata": {},
     "output_type": "execute_result"
    }
   ],
   "source": [
    "# 자동으로 형식 탐지\n",
    "parse(\"Oct 15, 2024 04:05:32 PM\")"
   ]
  },
  {
   "cell_type": "code",
   "execution_count": 6,
   "id": "77407e03-1175-4ed0-91be-d54aa0389822",
   "metadata": {},
   "outputs": [],
   "source": [
    "# 날짜 문자열 자동 탐자\n",
    "log = 'INFO 2025-01-01T00:00:01 Happy new year, human.'"
   ]
  },
  {
   "cell_type": "code",
   "execution_count": 7,
   "id": "7d71a9b7-f153-4510-8916-6d3c68d23d0c",
   "metadata": {},
   "outputs": [
    {
     "data": {
      "text/plain": [
       "datetime.datetime(2025, 1, 1, 0, 0, 1)"
      ]
     },
     "execution_count": 7,
     "metadata": {},
     "output_type": "execute_result"
    }
   ],
   "source": [
    "# log의 문자열이 정형화된 날짜형식이 아니므로 fuzzy=True 인자 추가 필요\n",
    "parse(log, fuzzy=True)"
   ]
  },
  {
   "cell_type": "markdown",
   "id": "f6398303-3cfb-4240-84d5-7c68a978d43d",
   "metadata": {},
   "source": [
    "> ### time\n",
    "> - `datetime` 라이브러리와 같이 파이썬에서 시간과 날짜를 다루기 위한 내장 라이브러리\n",
    "> - 프로그램 **실행 경과 시간**, 프로그램 **대기 시간** 등을 만들 때 주로 사용"
   ]
  },
  {
   "cell_type": "code",
   "execution_count": 8,
   "id": "c6e254bc-c406-4f2d-8d21-addf8f9ca027",
   "metadata": {},
   "outputs": [],
   "source": [
    "import time"
   ]
  },
  {
   "cell_type": "code",
   "execution_count": 9,
   "id": "bb31f4be-0c21-4fbf-9d13-c9379a08be62",
   "metadata": {},
   "outputs": [
    {
     "data": {
      "text/plain": [
       "1711878699.432132"
      ]
     },
     "execution_count": 9,
     "metadata": {},
     "output_type": "execute_result"
    }
   ],
   "source": [
    "# 현재 시간 출력 (실수형)\n",
    "time.time()"
   ]
  },
  {
   "cell_type": "code",
   "execution_count": 10,
   "id": "e578c097-1f6c-45e5-9afc-4b6fc56404e4",
   "metadata": {},
   "outputs": [
    {
     "data": {
      "text/plain": [
       "'Sun Mar 31 09:51:39 2024'"
      ]
     },
     "execution_count": 10,
     "metadata": {},
     "output_type": "execute_result"
    }
   ],
   "source": [
    "# 현재 시간 출력(문자형)\n",
    "time.ctime()"
   ]
  },
  {
   "cell_type": "code",
   "execution_count": 11,
   "id": "b3557101-7d47-4b5c-9a99-285cd7473f4c",
   "metadata": {},
   "outputs": [
    {
     "name": "stdout",
     "output_type": "stream",
     "text": [
      "바로 출력되는 구문\n",
      "3초후 출력되는 구문\n"
     ]
    }
   ],
   "source": [
    "# 대기 시간 생성\n",
    "print('바로 출력되는 구문')\n",
    "\n",
    "time.sleep(3)\n",
    "\n",
    "print('3초후 출력되는 구문')"
   ]
  },
  {
   "cell_type": "code",
   "execution_count": 12,
   "id": "2513d78a-a35e-48b7-b7ff-7e78c00f4cad",
   "metadata": {},
   "outputs": [
    {
     "name": "stdout",
     "output_type": "stream",
     "text": [
      "반복 횟수 1\n",
      "반복 횟수 2\n",
      "반복 횟수 3\n",
      "반복 횟수 4\n",
      "반복 횟수 5\n",
      "경과 시간은 : 5.006714105606079 초 입니다 !\n"
     ]
    }
   ],
   "source": [
    "# 경과 시간 출력\n",
    "start_time = time.time() # 현재 시간을 start_time에 저장\n",
    "\n",
    "for i in range(5):\n",
    "    time.sleep(1) # 1초간 대기\n",
    "    print('반복 횟수', i+1)\n",
    "    \n",
    "end_time = time.time()\n",
    "elapsed_time = end_time - start_time # for문 종료 후 현재 시간을 end_time에 저장\n",
    "\n",
    "print('경과 시간은 : {} 초 입니다 !'.format(elapsed_time))"
   ]
  }
 ],
 "metadata": {
  "kernelspec": {
   "display_name": "Python 3",
   "language": "python",
   "name": "python3"
  },
  "language_info": {
   "codemirror_mode": {
    "name": "ipython",
    "version": 3
   },
   "file_extension": ".py",
   "mimetype": "text/x-python",
   "name": "python",
   "nbconvert_exporter": "python",
   "pygments_lexer": "ipython3",
   "version": "3.6.9"
  }
 },
 "nbformat": 4,
 "nbformat_minor": 5
}
