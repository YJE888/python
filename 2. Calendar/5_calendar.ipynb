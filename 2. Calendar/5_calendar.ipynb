{
 "cells": [
  {
   "cell_type": "markdown",
   "id": "58bfa41d-a647-412e-850b-38a9db87cb39",
   "metadata": {},
   "source": [
    "# **[날짜] 파이썬으로 달력 만들기!**\n",
    "\n",
    "\n",
    "---\n",
    "### 📝 **학습 목차**\n",
    "> **6. 프로젝트 실습**"
   ]
  },
  {
   "cell_type": "markdown",
   "id": "f759afaf-6b25-493a-93a6-3de938e88d3d",
   "metadata": {},
   "source": [
    "### **달력 프로젝트 실습**\n",
    "> #### **진행 순서**\n",
    "> 1. 윤년 판별 함수\n",
    "> 2. 마지막 날짜 계산\n",
    "> 3. 지나온 날짜 계산\n",
    "> 4. 요일 반환\n",
    "> 5. 달력 확인"
   ]
  },
  {
   "cell_type": "markdown",
   "id": "209d48bb-9d38-4bc2-9cda-3e17b27937ca",
   "metadata": {},
   "source": [
    "### 1. 윤년 판별 함수"
   ]
  },
  {
   "cell_type": "markdown",
   "id": "0405bf08-7d95-48b5-8b72-57fddd3da043",
   "metadata": {},
   "source": [
    "#### 방법 1. 윤년 판별 함수에 따라 해당 연도가 윤년인지 아닌지 판별"
   ]
  },
  {
   "cell_type": "code",
   "execution_count": 1,
   "id": "a56255ca-ed52-40e7-a15f-5c778c6b18fb",
   "metadata": {},
   "outputs": [],
   "source": [
    "# 윤년이면 True, 아니면 False를 출력하는 함수\n",
    "def isLeapYear(year):\n",
    "    return year % 4 == 0 and year % 100 != 0 or year % 400 == 0"
   ]
  },
  {
   "cell_type": "code",
   "execution_count": 2,
   "id": "db47b754-90e6-4f31-8509-b7689851a3ee",
   "metadata": {},
   "outputs": [
    {
     "data": {
      "text/plain": [
       "True"
      ]
     },
     "execution_count": 2,
     "metadata": {},
     "output_type": "execute_result"
    }
   ],
   "source": [
    "isLeapYear(2024)"
   ]
  },
  {
   "cell_type": "code",
   "execution_count": 3,
   "id": "a1fe5b11-a850-4783-8c03-30650a322a65",
   "metadata": {},
   "outputs": [
    {
     "data": {
      "text/plain": [
       "False"
      ]
     },
     "execution_count": 3,
     "metadata": {},
     "output_type": "execute_result"
    }
   ],
   "source": [
    "isLeapYear(2025)"
   ]
  },
  {
   "cell_type": "markdown",
   "id": "b4dbb3e2-206d-41b8-a1e8-e9b5089af675",
   "metadata": {},
   "source": [
    "#### 방법2. calendar 모듈 활용하기"
   ]
  },
  {
   "cell_type": "code",
   "execution_count": 4,
   "id": "52524541-fc62-4a30-85dd-58fe6ab5cc5f",
   "metadata": {},
   "outputs": [],
   "source": [
    "import calendar"
   ]
  },
  {
   "cell_type": "code",
   "execution_count": 5,
   "id": "7b951192-c33a-4a9e-9ed8-04bd1291f52d",
   "metadata": {},
   "outputs": [
    {
     "data": {
      "text/plain": [
       "True"
      ]
     },
     "execution_count": 5,
     "metadata": {},
     "output_type": "execute_result"
    }
   ],
   "source": [
    "calendar.isleap(2024)"
   ]
  },
  {
   "cell_type": "code",
   "execution_count": 6,
   "id": "6fe9466d-938c-4cab-8dd4-1f6698c2312f",
   "metadata": {},
   "outputs": [
    {
     "data": {
      "text/plain": [
       "False"
      ]
     },
     "execution_count": 6,
     "metadata": {},
     "output_type": "execute_result"
    }
   ],
   "source": [
    "calendar.isleap(2025)"
   ]
  },
  {
   "cell_type": "markdown",
   "id": "c028a7b7-dbdd-4301-acef-051373bc99bb",
   "metadata": {},
   "source": [
    "### 2. 마지막 날짜 계산"
   ]
  },
  {
   "cell_type": "markdown",
   "id": "a9bfde0b-6cc0-4089-86a8-fb4e208dc1cd",
   "metadata": {},
   "source": [
    "- 마지막 날짜를 계산해주는 함수를 정의\n",
    "> - lastDay 인수로 년, 월을 넘겨받아 그 달의 마지막 날짜를 리턴하는 함수"
   ]
  },
  {
   "cell_type": "code",
   "execution_count": 7,
   "id": "a22301e7-17de-40bb-919b-c54b88eb8764",
   "metadata": {},
   "outputs": [],
   "source": [
    "def lastDay(year, month):\n",
    "    # 각 달의 마지막 날짜 리스트\n",
    "    m = [31, 28, 31, 30, 31, 30, 31, 31, 30, 31, 30, 31]\n",
    "    \n",
    "    # 2월의 마지막 날짜 확인(윤년 구분)\n",
    "    if calendar.isleap(year):\n",
    "        # isleap의 결과가 true일 경우 리스트 m의 두번째 인덱스(인텍스는 0부터 시작함!) 값을 29로 변경\n",
    "        m[1] = 29\n",
    "    \n",
    "    # month가 3이라면 1을 빼서 m리스트에서 두번째 인덱스 값 출력\n",
    "    return m[month - 1]"
   ]
  },
  {
   "cell_type": "markdown",
   "id": "2c3e214e-22f1-4774-81d8-6e5969ec4c57",
   "metadata": {},
   "source": [
    "### 3. 지나온 날짜 계산"
   ]
  },
  {
   "cell_type": "markdown",
   "id": "e32686c8-9811-49ce-9df7-e2eb023f1b26",
   "metadata": {},
   "source": [
    "> - `totalDay` 년, 월, 일을 넘겨받아 1년 1월 1일 부터 지난 날짜의 합계를 리턴하는 함수\n",
    "> - `total` 계산 순서\n",
    ">   1. 평년을 기준으로 전년도까지 일자 합계 -> 윤년이었던 횟수 더하기\n",
    ">   2. 전달까지 해당 연도 일자 더하기\n",
    ">   3. 이번달 날짜 더하기"
   ]
  },
  {
   "cell_type": "code",
   "execution_count": 8,
   "id": "27591cd5-5811-41a9-963a-51e644b55e29",
   "metadata": {},
   "outputs": [],
   "source": [
    "def totalDay(year, month, day):\n",
    "    # 1년 1월 1일 부터 전 년도 12월 31일 까지 지난 날짜를 합산(윤년까지)\n",
    "    total = (year - 1) * 365 + (year - 1) // 4 - (year - 1) // 100 + (year - 1) // 400\n",
    "    \n",
    "    # 전년도 까지 지난 날짜의 합계에 전 달까지의 날짜 더하기\n",
    "    for i in range(1, month):\n",
    "        total += lastDay(year, i)  # 윤년 확인 포함\n",
    "        \n",
    "    # 전달 까지 지난 날짜에 이번달 날짜를 더해서 리턴\n",
    "    return total + day "
   ]
  },
  {
   "cell_type": "markdown",
   "id": "3bb7c905-2374-43fd-9597-ae4a97ebacb2",
   "metadata": {},
   "source": [
    "### 4. 요일 반환"
   ]
  },
  {
   "cell_type": "markdown",
   "id": "96b92abe-70c8-4fdc-b847-7def22971e87",
   "metadata": {},
   "source": [
    "> - `weekDay` 인수로 년, 월, 일을 넘겨받아 요일을 계산해 숫자로 리턴하는 함수\n",
    "> - 1년 1월 1일 부터 인수로 넘겨받은 년, 월, 일 까지 지난 날짜의 합계를 7로 나눈 나머지 반환\n",
    "> - 일요일(0), 월요일(1), 화요일(2), 수요일(3), 목요일(4), 금요일(5), 토요일(6)"
   ]
  },
  {
   "cell_type": "code",
   "execution_count": 9,
   "id": "caa0c262-78d0-4be8-af6a-2b27813b4cd9",
   "metadata": {},
   "outputs": [],
   "source": [
    "def weekDay(year, month, day):\n",
    "    return totalDay(year, month, day) % 7"
   ]
  },
  {
   "cell_type": "code",
   "execution_count": 10,
   "id": "06f80a17-935e-4e4c-910f-80c7d741c2fc",
   "metadata": {},
   "outputs": [
    {
     "name": "stdin",
     "output_type": "stream",
     "text": [
      "달력을 출력할 년, 월을 입력하세요 :  2024 04\n"
     ]
    },
    {
     "name": "stdout",
     "output_type": "stream",
     "text": [
      "============================\n",
      "         2024년 4월\n",
      "============================\n",
      " 일  월  화  수  목  금  토 \n",
      "============================\n",
      "      1   2   3   4   5   6 \n",
      "  7   8   9  10  11  12  13 \n",
      " 14  15  16  17  18  19  20 \n",
      " 21  22  23  24  25  26  27 \n",
      " 28  29  30 \n",
      "============================\n"
     ]
    }
   ],
   "source": [
    "if __name__ == \"__main__\":\n",
    "    \n",
    "    # 달력 프로그램 도입부\n",
    "    year, month = map(int, input('달력을 출력할 년, 월을 입력하세요 : ').split())\n",
    "    print('=' * 28)\n",
    "    print('         {0:4d}년{1:2d}월'.format(year, month))\n",
    "    print('=' * 28)\n",
    "    print(' 일  월  화  수  목  금  토 ')\n",
    "    print('=' * 28)  \n",
    "\n",
    "    # 1일이 출력될 요일의 위치를 맞추기 위해서 1일의 요일만큼 반복하며 빈칸을 출력\n",
    "    for i in range(weekDay(year, month, 1)):        \n",
    "        print('    ', end = '')\n",
    "\n",
    "    # 1일 부터 달력을 출력할 달의 마지막 날짜까지 반복하며 달력을 출력\n",
    "    for i in range(1, lastDay(year, month) + 1):\n",
    "        print(' {0:2d} '.format(i), end = '') \n",
    "\n",
    "\n",
    "        # 출력한 날짜(i)가 토요일이고 그 달의 마지막 날짜가 아니면 줄바꿈\n",
    "        if weekDay(year, month, i) == 6 and i != lastDay(year, month):\n",
    "            print()\n",
    "\n",
    "\n",
    "    print('\\n' + '=' * 28) # 달력 하단"
   ]
  }
 ],
 "metadata": {
  "kernelspec": {
   "display_name": "Python 3",
   "language": "python",
   "name": "python3"
  },
  "language_info": {
   "codemirror_mode": {
    "name": "ipython",
    "version": 3
   },
   "file_extension": ".py",
   "mimetype": "text/x-python",
   "name": "python",
   "nbconvert_exporter": "python",
   "pygments_lexer": "ipython3",
   "version": "3.6.9"
  }
 },
 "nbformat": 4,
 "nbformat_minor": 5
}
